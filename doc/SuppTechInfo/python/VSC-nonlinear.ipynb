{
 "cells": [
  {
   "cell_type": "code",
   "execution_count": 81,
   "metadata": {},
   "outputs": [],
   "source": [
    "import os\n",
    "import numpy as np\n",
    "import matplotlib.pyplot as plt\n",
    "import matplotlib.gridspec as gridspec\n",
    "import math"
   ]
  },
  {
   "cell_type": "code",
   "execution_count": 82,
   "metadata": {},
   "outputs": [],
   "source": [
    "try:\n",
    "    import spnspecs\n",
    "    spnspecs.set_graph_specifications()\n",
    "except:\n",
    "    spnspecs = None"
   ]
  },
  {
   "cell_type": "code",
   "execution_count": 3,
   "metadata": {},
   "outputs": [],
   "source": [
    "figpth = '../Figures'\n",
    "width = 6.8\n",
    "dpi = 300"
   ]
  },
  {
   "cell_type": "markdown",
   "metadata": {},
   "source": [
    "### A common nonlinear function relating viscosity and temperature\n",
    "\n",
    "The equation that follows is for temperature expressed in $^\\circ$C"
   ]
  },
  {
   "cell_type": "code",
   "execution_count": 119,
   "metadata": {},
   "outputs": [],
   "source": [
    "dtype = np.float\n",
    "step = 0.01\n",
    "T0, T1 = 0, 40\n",
    "T = np.arange(T0, T1, step=step, dtype=dtype)"
   ]
  },
  {
   "cell_type": "code",
   "execution_count": 120,
   "metadata": {},
   "outputs": [],
   "source": [
    "def nonlin_vsc(T):\n",
    "    a1 = 2.394e-5\n",
    "    a2 = 10\n",
    "    a3 = 248.37\n",
    "    a4 = 133.15\n",
    "    visc = np.zeros(T.shape, dtype=np.float)\n",
    "    for idx, val in enumerate(T):\n",
    "        mu_T = a1 * a2 ** (a3 / (T[idx] + a4))\n",
    "        visc[idx] = mu_T\n",
    "        \n",
    "    return visc"
   ]
  },
  {
   "cell_type": "markdown",
   "metadata": {},
   "source": [
    "### A linear approximation for the equation given above\n",
    "\n",
    "That is, contrive a linear approximation to the nonlinear case above"
   ]
  },
  {
   "cell_type": "code",
   "execution_count": 126,
   "metadata": {},
   "outputs": [],
   "source": [
    "x_lin_pts = np.array([7.5, 30])\n",
    "y_lin_pts = nonlin_vsc(x_lin_pts)\n",
    "\n",
    "# calc rise/run\n",
    "dviscdT = (y_lin_pts[1] - y_lin_pts[0]) / (x_lin_pts[1] - x_lin_pts[0])\n",
    "\n",
    "# tempearture of reference viscosity\n",
    "Tviscref = 20\n",
    "\n",
    "# reference viscosity\n",
    "mu_0 = nonlin_vsc(np.array([Tviscref]))\n",
    "\n",
    "def lin_vsc(T, dviscdT, Tviscref):\n",
    "    # use the linear formula\n",
    "    visc_lin = np.zeros(T.shape, dtype=np.float)\n",
    "    for idx, val in enumerate(T):\n",
    "        mu_T = dviscdT * (val - Tviscref) + mu_0\n",
    "        visc_lin[idx] = mu_T\n",
    "    \n",
    "    return visc_lin"
   ]
  },
  {
   "cell_type": "code",
   "execution_count": 127,
   "metadata": {},
   "outputs": [],
   "source": [
    "visc = nonlin_vsc(T)\n",
    "visc_lin = lin_vsc(T, dviscdT, Tviscref)"
   ]
  },
  {
   "cell_type": "code",
   "execution_count": 128,
   "metadata": {},
   "outputs": [
    {
     "data": {
      "text/plain": [
       "[<matplotlib.lines.Line2D at 0x1982af203d0>]"
      ]
     },
     "execution_count": 128,
     "metadata": {},
     "output_type": "execute_result"
    },
    {
     "data": {
      "image/png": "[encoded data removed]",
      "text/plain": [
       "<Figure size 432x288 with 1 Axes>"
      ]
     },
     "metadata": {
      "needs_background": "light"
     },
     "output_type": "display_data"
    }
   ],
   "source": [
    "plt.plot(T,visc)\n",
    "plt.plot(T,visc_lin)"
   ]
  },
  {
   "cell_type": "markdown",
   "metadata": {},
   "source": [
    "### Plot data"
   ]
  },
  {
   "cell_type": "code",
   "execution_count": 124,
   "metadata": {},
   "outputs": [
    {
     "name": "stdout",
     "output_type": "stream",
     "text": [
      "[ 0  5 10 15 20 25 30 35 40]\n",
      "[0.0006 0.0008 0.001  0.0012 0.0014 0.0016 0.0018 0.002 ]\n"
     ]
    }
   ],
   "source": [
    "x_increment = 5\n",
    "x_ticks = np.arange(T0, T1 + x_increment, x_increment)\n",
    "y_increment = 2e-4\n",
    "y_ticks = np.arange(math.floor(visc.min() * 10000) / 10000, math.ceil(visc.max() * 10000) / 10000 + y_increment, y_increment)\n",
    "print(x_ticks)\n",
    "print(y_ticks)"
   ]
  },
  {
   "cell_type": "code",
   "execution_count": 154,
   "metadata": {},
   "outputs": [
    {
     "ename": "AttributeError",
     "evalue": "'NoneType' object has no attribute 'add_text'",
     "output_type": "error",
     "traceback": [
      "\u001b[1;31m---------------------------------------------------------------------------\u001b[0m",
      "\u001b[1;31mAttributeError\u001b[0m                            Traceback (most recent call last)",
      "\u001b[1;32m<ipython-input-154-6808dcaf2bcf>\u001b[0m in \u001b[0;36m<module>\u001b[1;34m\u001b[0m\n\u001b[0;32m     27\u001b[0m \u001b[0mtext\u001b[0m \u001b[1;33m=\u001b[0m \u001b[1;34mr'$\\left ( T_0, \\mu_0 \\right )$'\u001b[0m\u001b[1;33m\u001b[0m\u001b[1;33m\u001b[0m\u001b[0m\n\u001b[0;32m     28\u001b[0m \u001b[1;31m#ax.text(21, 0.00102, text, style='italic') #fontsize=6)\u001b[0m\u001b[1;33m\u001b[0m\u001b[1;33m\u001b[0m\u001b[1;33m\u001b[0m\u001b[0m\n\u001b[1;32m---> 29\u001b[1;33m \u001b[0mspnspecs\u001b[0m\u001b[1;33m.\u001b[0m\u001b[0madd_text\u001b[0m\u001b[1;33m(\u001b[0m\u001b[0max\u001b[0m\u001b[1;33m,\u001b[0m \u001b[0mtext\u001b[0m\u001b[1;33m=\u001b[0m\u001b[0mtext\u001b[0m\u001b[1;33m,\u001b[0m \u001b[0mx\u001b[0m\u001b[1;33m=\u001b[0m\u001b[1;36m0.5\u001b[0m\u001b[1;33m,\u001b[0m \u001b[0my\u001b[0m\u001b[1;33m=\u001b[0m\u001b[1;36m0.5\u001b[0m\u001b[1;33m,\u001b[0m \u001b[0mtransform\u001b[0m\u001b[1;33m=\u001b[0m\u001b[1;32mFalse\u001b[0m\u001b[1;33m,\u001b[0m \u001b[0mbold\u001b[0m\u001b[1;33m=\u001b[0m\u001b[1;32mFalse\u001b[0m\u001b[1;33m,\u001b[0m \u001b[0mha\u001b[0m\u001b[1;33m=\u001b[0m\u001b[1;34m'left'\u001b[0m\u001b[1;33m,\u001b[0m \u001b[0mva\u001b[0m\u001b[1;33m=\u001b[0m\u001b[1;34m'top'\u001b[0m\u001b[1;33m)\u001b[0m\u001b[1;33m\u001b[0m\u001b[1;33m\u001b[0m\u001b[0m\n\u001b[0m\u001b[0;32m     30\u001b[0m \u001b[1;33m\u001b[0m\u001b[0m\n\u001b[0;32m     31\u001b[0m \u001b[1;32mif\u001b[0m \u001b[0mspnspecs\u001b[0m \u001b[1;32mis\u001b[0m \u001b[1;32mnot\u001b[0m \u001b[1;32mNone\u001b[0m\u001b[1;33m:\u001b[0m\u001b[1;33m\u001b[0m\u001b[1;33m\u001b[0m\u001b[0m\n",
      "\u001b[1;31mAttributeError\u001b[0m: 'NoneType' object has no attribute 'add_text'"
     ]
    },
    {
     "data": {
      "image/png": "[encoded data removed]",
      "text/plain": [
       "<Figure size 326.4x244.8 with 1 Axes>"
      ]
     },
     "metadata": {
      "needs_background": "light"
     },
     "output_type": "display_data"
    }
   ],
   "source": [
    "fig, axes = plt.subplots(nrows=1, ncols=1, tight_layout=True, \n",
    "                       figsize=(width/1.5, width/2))\n",
    "\n",
    "if not isinstance(axes, list):\n",
    "    axes = [axes]\n",
    "\n",
    "for idx, ax in enumerate(axes):\n",
    "    ax.set_xlim(T0, T1)\n",
    "    ax.set_ylim(y_ticks[0], y_ticks[-2])\n",
    "    ax.set_xticks(x_ticks)\n",
    "    ax.set_xticklabels(x_ticks)\n",
    "    #ax.set_yticks(y_ticks)\n",
    "    #ax.set_yticklabels(y_ticks, rotation=90, va='center')\n",
    "    if spnspecs is not None:\n",
    "        spnspecs.remove_edge_ticks(ax)\n",
    "        spnspecs.heading(ax, letter=letters[idx])\n",
    "    \n",
    "\n",
    "ax = axes[0]\n",
    "#ax.set_aspect('square', adjustable='box')\n",
    "#ax.axhline(0, lw=0.5, ls='-.', color='black')\n",
    "#ax.axvline(0, lw=0.5, ls='-.', color='black')\n",
    "\n",
    "ax.plot(T, visc, lw=1.25, color='#00BFFF', label=r'$\\mu')\n",
    "ax.plot(T, visc_lin, lw=1., color='black', ls='-', label=r'$\\frac {\\partial \\mu} {\\partial T}')\n",
    "ax.plot([Tviscref], [mu_0], marker=\"o\", markersize=4, markeredgecolor=\"red\", markerfacecolor=\"blue\")\n",
    "text = r'$\\left ( T_0, \\mu_0 \\right )$'\n",
    "#ax.text(21, 0.00102, text, style='italic') #fontsize=6)\n",
    "spnspecs.add_text(ax, text=text, x=0.5, y=0.5, transform=False, bold=False, ha='left', va='top')\n",
    "\n",
    "if spnspecs is not None:\n",
    "    handles, labels = ax.get_legend_handles_labels()\n",
    "    spnspecs.graph_legend(ax, handles=handles[::-1], labels=labels[::-1],\n",
    "                          loc='upper right', bbox_to_anchor=(1.00,0.95),\n",
    "                          handlelength=1.5)\n",
    "ax.set_xlabel(r'Temperature, in $^\\circ$C')\n",
    "ax.set_ylabel(r'$\\mu$, in $\\frac{kg}{m \\cdot s}$')\n",
    "\n",
    "fpth = os.path.join(figpth, 'VSCnonlinear.pdf')\n",
    "fig.savefig(fpth, dpi=dpi)"
   ]
  },
  {
   "cell_type": "code",
   "execution_count": null,
   "metadata": {},
   "outputs": [],
   "source": []
  }
 ],
 "metadata": {
  "kernelspec": {
   "display_name": "Python 3",
   "language": "python",
   "name": "python3"
  },
  "language_info": {
   "codemirror_mode": {
    "name": "ipython",
    "version": 3
   },
   "file_extension": ".py",
   "mimetype": "text/x-python",
   "name": "python",
   "nbconvert_exporter": "python",
   "pygments_lexer": "ipython3",
   "version": "3.9.1"
  }
 },
 "nbformat": 4,
 "nbformat_minor": 4
}
